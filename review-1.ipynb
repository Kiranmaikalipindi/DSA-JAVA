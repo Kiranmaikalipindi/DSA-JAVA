{
  "nbformat": 4,
  "nbformat_minor": 0,
  "metadata": {
    "colab": {
      "provenance": []
    },
    "kernelspec": {
      "name": "python3",
      "display_name": "Python 3"
    },
    "language_info": {
      "name": "python"
    }
  },
  "cells": [
    {
      "cell_type": "markdown",
      "source": [
        "# SMART HOME AUTOMATION CONTROL"
      ],
      "metadata": {
        "id": "tqnhHfAfaGMZ"
      }
    },
    {
      "cell_type": "markdown",
      "source": [
        "The Smart Home Automation Control is designed to provide an intelligent and efficient way to manage household electronic devices. The system automates various home functions, such as controlling devices, and energy consumption, to improve convenience, safety, and efficiency.\n",
        "\n",
        "With the increasing adoption of smart home technology, this system ensures seamless communication between connected devices while optimizing energy usage through priority-based power distribution and automation rules. It is developed to cater to both residential and industrial applications, enhancing user comfort and reducing manual intervention."
      ],
      "metadata": {
        "id": "ksO8TyvaWj2p"
      }
    },
    {
      "cell_type": "markdown",
      "source": [
        "# Architecture\n",
        "\n",
        "The system consists of four core components:\n",
        "\n",
        "### 1. Device Management\n",
        "\n",
        "* Each smart device is stored with attributes like power consumption, priority, and status.\n",
        "* Devices can be turned ON/OFF based on power availability.\n",
        "\n",
        "### 2. Priority Queue (Efficient Device Management)\n",
        "\n",
        "* Devices are managed in a priority queue.\n",
        "* Lower values indicate higher priority, ensuring critical devices receive power first.\n",
        "* The queue is sorted dynamically to optimize power distribution.\n",
        "\n",
        "### 3. Automation Rules (Linked List)\n",
        "\n",
        "* A singly linked list stores automation rules.\n",
        "* Rules are executed sequentially to automate device control.\n",
        "\n",
        "### 4. Power Manager\n",
        "\n",
        "* Ensures efficient energy distribution based on available power.\n",
        "* Devices are activated based on priority and power constraints."
      ],
      "metadata": {
        "id": "GPSW18g2QsNH"
      }
    },
    {
      "cell_type": "markdown",
      "source": [
        "# DEFINE Class Device:\n",
        "    Attributes:\n",
        "        - device_id: Unique identifier\n",
        "        - name: Device name\n",
        "        - power_consumption: Power required to operate\n",
        "        - priority: Device importance level\n",
        "        - status: ON/OFF state\n",
        "    Methods:\n",
        "        - turn_on(): Set status to 'ON'\n",
        "        - turn_off(): Set status to 'OFF'\n",
        "        - Display device details"
      ],
      "metadata": {
        "id": "Wkk6w24Mad8a"
      }
    },
    {
      "cell_type": "markdown",
      "source": [
        "# DEFINE Class PriorityQueue:\n",
        "    Attributes:\n",
        "        - queue: List of devices sorted by priority\n",
        "    Methods:\n",
        "        - enqueue(device): Add device and sort by priority\n",
        "        - dequeue(): Remove and return the highest-priority device\n",
        "        - peek(): Return highest-priority device without removing\n",
        "        - Display queue contents\n"
      ],
      "metadata": {
        "id": "pHzkXdbRawWF"
      }
    },
    {
      "cell_type": "markdown",
      "source": [
        "# DEFINE Class AutomationRule:\n",
        "    Attributes:\n",
        "        - condition: Trigger condition for rule\n",
        "        - action: Action to be performed\n",
        "    Methods:\n",
        "        - execute(): If condition is met, perform action"
      ],
      "metadata": {
        "id": "OCmVoUcEa0NZ"
      }
    },
    {
      "cell_type": "markdown",
      "source": [
        "# DEFINE Class LinkedList:\n"
        "      Attributes:\n",
        "          - head: First node in linked list\n",
        "      Methods:\n",
        "          - add_rule(condition, action): Append new automation rule\n",
        "          - execute_rules(): Traverse and execute all rules sequentially"
      ],
      "metadata": {
        "id": "unZyygd9a32v"
      }
    },
    {
      "cell_type": "markdown",
      "source": [
        "# DEFINE Class SmartHomeController:\n",
        "    Attributes:\n",
        "        - devices: List of all smart home devices\n",
        "        - priority_queue: PriorityQueue for managing device operations\n",
        "        - automation_rules: LinkedList for automation rules\n",
        "    Methods:\n",
        "        - add_device(device): Add device to system and priority queue\n",
        "        - add_automation_rule(condition, action): Add rule to automation system\n",
        "        - manage_devices(): Display device management status\n",
        "        - run_automation(): Execute all automation rules"
      ],
      "metadata": {
        "id": "WrAScdzEbDDJ"
      }
    },
    {
      "cell_type": "markdown",
      "source": [
        "# DEFINE Class Power:\n",
        "    Attributes:\n",
        "        - total_power: Maximum power available\n",
        "    Methods:\n",
        "        - distribute_power(priority_queue): Allocate power to devices based on priority\n"
      ],
      "metadata": {
        "id": "ggf5wUfmbGPD"
      }
    },
    {
      "cell_type": "markdown",
      "source": [
        "# Execution Steps\n",
        "\n",
        "1. INITIALIZE SmartHomeController\n",
        "2. CREATE devices with different power consumptions and priorities\n",
        "3. ADD devices to SmartHomeController\n",
        "4. DEFINE automation rule with condition and action\n",
        "5. ADD automation rule to SmartHomeController\n",
        "6. INITIALIZE Power Management with total available power\n",
        "7. DISTRIBUTE power to devices based on priority\n",
        "8. DISPLAY device management status\n",
        "9. RUN automation rules\n",
        "\n",
        "END"
      ],
      "metadata": {
        "id": "SPRzEOmtbMUK"
      }
    }
  ]
}
